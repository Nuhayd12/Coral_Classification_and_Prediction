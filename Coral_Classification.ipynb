{
  "nbformat": 4,
  "nbformat_minor": 0,
  "metadata": {
    "colab": {
      "provenance": [],
      "mount_file_id": "1uod0NB87dipuh6YzXJHe0h2VOCz21Q9-",
      "authorship_tag": "ABX9TyN3X3+6qmnneGs5tH981JBR",
      "include_colab_link": true
    },
    "kernelspec": {
      "name": "python3",
      "display_name": "Python 3"
    },
    "language_info": {
      "name": "python"
    }
  },
  "cells": [
    {
      "cell_type": "markdown",
      "metadata": {
        "id": "view-in-github",
        "colab_type": "text"
      },
      "source": [
        "<a href=\"https://colab.research.google.com/github/Nuhayd12/Coral_Classification_and_Prediction/blob/main/Coral_Classification.ipynb\" target=\"_parent\"><img src=\"https://colab.research.google.com/assets/colab-badge.svg\" alt=\"Open In Colab\"/></a>"
      ]
    },
    {
      "cell_type": "code",
      "source": [
        "from google.colab import drive\n",
        "drive.mount('/content/drive')"
      ],
      "metadata": {
        "colab": {
          "base_uri": "https://localhost:8080/"
        },
        "id": "HpQfdV-Y2sLc",
        "outputId": "bf1bc85b-c48c-4c88-e7df-a4c6417d7a21"
      },
      "execution_count": 1,
      "outputs": [
        {
          "output_type": "stream",
          "name": "stdout",
          "text": [
            "Drive already mounted at /content/drive; to attempt to forcibly remount, call drive.mount(\"/content/drive\", force_remount=True).\n"
          ]
        }
      ]
    },
    {
      "cell_type": "markdown",
      "source": [
        "#IMPORT LIBRARIES AND MODELS"
      ],
      "metadata": {
        "id": "Qj-GS1yK2thQ"
      }
    },
    {
      "cell_type": "code",
      "execution_count": 2,
      "metadata": {
        "id": "XR2FXmeR2kzW"
      },
      "outputs": [],
      "source": [
        "import tensorflow as tf\n",
        "from tensorflow.keras.models import Sequential\n",
        "from tensorflow.keras.layers import Conv2D, MaxPooling2D, Flatten, Dense, Dropout\n",
        "from tensorflow.keras.preprocessing.image import ImageDataGenerator\n",
        "from sklearn.metrics import classification_report, confusion_matrix"
      ]
    },
    {
      "cell_type": "markdown",
      "source": [
        "#DATA PREPARATION\n"
      ],
      "metadata": {
        "id": "sSgQnmoP23zg"
      }
    },
    {
      "cell_type": "code",
      "source": [
        "train_datagen = ImageDataGenerator(rescale=1./255, horizontal_flip=True, vertical_flip=True, zoom_range=0.2)\n",
        "test_val_datagen = ImageDataGenerator(rescale=1./255)\n",
        "\n",
        "train_generator = train_datagen.flow_from_directory('/content/drive/MyDrive/Coral Clasification/Train', target_size=(150, 150), batch_size=32, class_mode='binary')\n",
        "validation_generator = test_val_datagen.flow_from_directory('/content/drive/MyDrive/Coral Clasification/Valid', target_size=(150, 150), batch_size=32, class_mode='binary')\n",
        "test_generator = test_val_datagen.flow_from_directory('/content/drive/MyDrive/Coral Clasification/Test', target_size=(150, 150), batch_size=32, class_mode='binary', shuffle=False)"
      ],
      "metadata": {
        "colab": {
          "base_uri": "https://localhost:8080/"
        },
        "id": "2r1w4AiX2ocU",
        "outputId": "5d30e7b9-f634-4def-a38c-beb7f3f2a36e"
      },
      "execution_count": 4,
      "outputs": [
        {
          "output_type": "stream",
          "name": "stdout",
          "text": [
            "Found 1522 images belonging to 2 classes.\n",
            "Found 120 images belonging to 2 classes.\n",
            "Found 120 images belonging to 2 classes.\n"
          ]
        }
      ]
    },
    {
      "cell_type": "markdown",
      "source": [
        "# Model definition"
      ],
      "metadata": {
        "id": "GUGw8umH4PBo"
      }
    },
    {
      "cell_type": "code",
      "source": [
        "model = Sequential([\n",
        "    Conv2D(32, (3, 3), activation='relu', input_shape=(150, 150, 3)),\n",
        "    MaxPooling2D((2, 2)),\n",
        "    Conv2D(64, (3, 3), activation='relu'),\n",
        "    MaxPooling2D((2, 2)),\n",
        "    Conv2D(128, (3, 3), activation='relu'),\n",
        "    MaxPooling2D((2, 2)),\n",
        "    Flatten(),\n",
        "    Dense(512, activation='relu'),\n",
        "    Dropout(0.5),\n",
        "    Dense(1, activation='sigmoid')\n",
        "])"
      ],
      "metadata": {
        "id": "35mvGplh2qg7"
      },
      "execution_count": 5,
      "outputs": []
    },
    {
      "cell_type": "markdown",
      "source": [
        "#Compilation"
      ],
      "metadata": {
        "id": "Ek0l4Kbh4SYo"
      }
    },
    {
      "cell_type": "code",
      "source": [
        "model.compile(optimizer='adam', loss='binary_crossentropy', metrics=['accuracy'])"
      ],
      "metadata": {
        "id": "3X08HcWk4Ui9"
      },
      "execution_count": 6,
      "outputs": []
    },
    {
      "cell_type": "markdown",
      "source": [
        "#Training"
      ],
      "metadata": {
        "id": "QtrjZygf4Wfp"
      }
    },
    {
      "cell_type": "code",
      "source": [
        "history = model.fit(train_generator, epochs=50, validation_data=validation_generator, callbacks=[tf.keras.callbacks.EarlyStopping(patience=10, restore_best_weights=True)])\n"
      ],
      "metadata": {
        "colab": {
          "base_uri": "https://localhost:8080/"
        },
        "id": "pbS7LJDw4YIf",
        "outputId": "6732211e-39af-4706-be58-eb135bcf6719"
      },
      "execution_count": 7,
      "outputs": [
        {
          "output_type": "stream",
          "name": "stdout",
          "text": [
            "Epoch 1/50\n",
            "48/48 [==============================] - 340s 7s/step - loss: 0.4254 - accuracy: 0.8436 - val_loss: 1.2881 - val_accuracy: 0.6417\n",
            "Epoch 2/50\n",
            "48/48 [==============================] - 113s 2s/step - loss: 0.2227 - accuracy: 0.9152 - val_loss: 1.1759 - val_accuracy: 0.6833\n",
            "Epoch 3/50\n",
            "48/48 [==============================] - 108s 2s/step - loss: 0.2058 - accuracy: 0.9238 - val_loss: 0.9918 - val_accuracy: 0.7083\n",
            "Epoch 4/50\n",
            "48/48 [==============================] - 106s 2s/step - loss: 0.1832 - accuracy: 0.9323 - val_loss: 1.7127 - val_accuracy: 0.7000\n",
            "Epoch 5/50\n",
            "48/48 [==============================] - 107s 2s/step - loss: 0.1653 - accuracy: 0.9409 - val_loss: 1.4193 - val_accuracy: 0.7333\n",
            "Epoch 6/50\n",
            "48/48 [==============================] - 107s 2s/step - loss: 0.1737 - accuracy: 0.9448 - val_loss: 2.1132 - val_accuracy: 0.6583\n",
            "Epoch 7/50\n",
            "48/48 [==============================] - 103s 2s/step - loss: 0.1686 - accuracy: 0.9442 - val_loss: 2.2113 - val_accuracy: 0.7000\n",
            "Epoch 8/50\n",
            "48/48 [==============================] - 113s 2s/step - loss: 0.1437 - accuracy: 0.9455 - val_loss: 1.6006 - val_accuracy: 0.6667\n",
            "Epoch 9/50\n",
            "48/48 [==============================] - 106s 2s/step - loss: 0.1430 - accuracy: 0.9422 - val_loss: 2.4758 - val_accuracy: 0.6333\n",
            "Epoch 10/50\n",
            "48/48 [==============================] - 106s 2s/step - loss: 0.1186 - accuracy: 0.9566 - val_loss: 2.2512 - val_accuracy: 0.6500\n",
            "Epoch 11/50\n",
            "48/48 [==============================] - 104s 2s/step - loss: 0.1192 - accuracy: 0.9586 - val_loss: 2.8110 - val_accuracy: 0.7000\n",
            "Epoch 12/50\n",
            "48/48 [==============================] - 106s 2s/step - loss: 0.1160 - accuracy: 0.9593 - val_loss: 2.4752 - val_accuracy: 0.6583\n",
            "Epoch 13/50\n",
            "48/48 [==============================] - 113s 2s/step - loss: 0.1212 - accuracy: 0.9514 - val_loss: 3.9236 - val_accuracy: 0.6167\n"
          ]
        }
      ]
    },
    {
      "cell_type": "markdown",
      "source": [
        "#Evaluation"
      ],
      "metadata": {
        "id": "tYbCsL-l4Z5y"
      }
    },
    {
      "cell_type": "code",
      "source": [
        "test_loss, test_acc = model.evaluate(test_generator)\n",
        "print(f'Test accuracy: {test_acc}')\n"
      ],
      "metadata": {
        "colab": {
          "base_uri": "https://localhost:8080/"
        },
        "id": "S1l3kn-34bw1",
        "outputId": "c54eb184-1056-4292-d021-4142cedf7882"
      },
      "execution_count": 8,
      "outputs": [
        {
          "output_type": "stream",
          "name": "stdout",
          "text": [
            "4/4 [==============================] - 33s 11s/step - loss: 0.3487 - accuracy: 0.9250\n",
            "Test accuracy: 0.925000011920929\n"
          ]
        }
      ]
    },
    {
      "cell_type": "code",
      "source": [
        "print(test_acc * 100,\"%\")"
      ],
      "metadata": {
        "colab": {
          "base_uri": "https://localhost:8080/"
        },
        "id": "p62jqIIjPcM6",
        "outputId": "085a5565-1b3f-414f-f924-bc157a0d75a5"
      },
      "execution_count": 10,
      "outputs": [
        {
          "output_type": "stream",
          "name": "stdout",
          "text": [
            "92.5000011920929 %\n"
          ]
        }
      ]
    },
    {
      "cell_type": "markdown",
      "source": [
        "# Predictions and classification report"
      ],
      "metadata": {
        "id": "_Nvntbc34e0a"
      }
    },
    {
      "cell_type": "code",
      "source": [
        "predictions = model.predict(test_generator)\n",
        "y_true = test_generator.classes\n",
        "y_pred = (predictions > 0.5).astype(int).flatten()"
      ],
      "metadata": {
        "colab": {
          "base_uri": "https://localhost:8080/"
        },
        "id": "2v_j07Vv4gjy",
        "outputId": "84d70a1e-8ce1-422b-d08f-94188b30c50a"
      },
      "execution_count": 11,
      "outputs": [
        {
          "output_type": "stream",
          "name": "stdout",
          "text": [
            "4/4 [==============================] - 4s 574ms/step\n"
          ]
        }
      ]
    },
    {
      "cell_type": "code",
      "source": [
        "print(classification_report(y_true, y_pred, target_names=['Non-coral', 'Coral']))\n",
        "print(confusion_matrix(y_true, y_pred))"
      ],
      "metadata": {
        "colab": {
          "base_uri": "https://localhost:8080/"
        },
        "id": "ZK3NEdb-4lTB",
        "outputId": "f30d9843-1d0b-4fb4-947f-a9836d32544b"
      },
      "execution_count": 12,
      "outputs": [
        {
          "output_type": "stream",
          "name": "stdout",
          "text": [
            "              precision    recall  f1-score   support\n",
            "\n",
            "   Non-coral       0.87      1.00      0.93        60\n",
            "       Coral       1.00      0.85      0.92        60\n",
            "\n",
            "    accuracy                           0.93       120\n",
            "   macro avg       0.93      0.93      0.92       120\n",
            "weighted avg       0.93      0.93      0.92       120\n",
            "\n",
            "[[60  0]\n",
            " [ 9 51]]\n"
          ]
        }
      ]
    },
    {
      "cell_type": "code",
      "source": [],
      "metadata": {
        "id": "Gq-QB2e0P1Rr"
      },
      "execution_count": null,
      "outputs": []
    }
  ]
}